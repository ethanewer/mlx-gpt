{
 "cells": [
  {
   "cell_type": "code",
   "execution_count": null,
   "metadata": {},
   "outputs": [],
   "source": [
    "from typing import Sequence, Generator\n",
    "import torch\n",
    "from torch import nn, optim, Tensor\n",
    "import torch.nn.functional as F\n",
    "\n",
    "import time\n",
    "import numpy as np\n",
    "import matplotlib.pyplot as plt"
   ]
  },
  {
   "cell_type": "markdown",
   "metadata": {},
   "source": [
    "# Load and Process Data"
   ]
  },
  {
   "cell_type": "code",
   "execution_count": null,
   "metadata": {},
   "outputs": [],
   "source": [
    "with open('../data/input.txt', 'r', encoding='utf-8') as f:\n",
    "    text = f.read()"
   ]
  },
  {
   "cell_type": "markdown",
   "metadata": {},
   "source": [
    "Tokens are chars, so the vocab size is the number of unique chars"
   ]
  },
  {
   "cell_type": "code",
   "execution_count": null,
   "metadata": {},
   "outputs": [],
   "source": [
    "chars = sorted(list(set(text)))\n",
    "vocab_size = len(chars)\n",
    "\n",
    "char2int = {c: i for i, c in enumerate(chars)}\n",
    "int2char = {i: c for i, c in enumerate(chars)}\n",
    "\n",
    "\n",
    "def encode(s: str) -> list[int]:\n",
    "    return [char2int[c] for c in s if c in char2int]\n",
    "\n",
    "\n",
    "def decode(y: list[int] | np.ndarray | Tensor) -> str:\n",
    "    return \"\".join([int2char[int(i)] for i in y if int(i) in int2char])"
   ]
  },
  {
   "cell_type": "markdown",
   "metadata": {},
   "source": [
    "The input text is encoded as an `Tensor`, then split into training and validation\n",
    "splits"
   ]
  },
  {
   "cell_type": "code",
   "execution_count": null,
   "metadata": {},
   "outputs": [],
   "source": [
    "full_data = torch.tensor(encode(text), dtype=torch.int64)\n",
    "\n",
    "val_size = len(full_data) // 10\n",
    "\n",
    "train_data = full_data[val_size:]\n",
    "val_data = full_data[:val_size]"
   ]
  },
  {
   "cell_type": "markdown",
   "metadata": {},
   "source": [
    "### Convert data into blocks\n",
    "\n",
    "$x_i = [d_i, d_{i + 1}, ..., d_{i + b}]$\n",
    "\n",
    "$y_i = [d_{i + 1}, d_{i + 2}, ..., d_{i + b + 1}]$"
   ]
  },
  {
   "cell_type": "code",
   "execution_count": null,
   "metadata": {},
   "outputs": [],
   "source": [
    "def block_data(data: Tensor, block_size: int) -> tuple[Tensor, Tensor]:\n",
    "    n_blocks = len(data) - block_size - 1\n",
    "    x = torch.stack([data[i:i + block_size] for i in range(n_blocks)])\n",
    "    y = torch.stack([data[i:i + block_size] for i in range(1, n_blocks + 1)])\n",
    "    return x, y"
   ]
  },
  {
   "cell_type": "markdown",
   "metadata": {},
   "source": [
    "### Generate random batches for dataset"
   ]
  },
  {
   "cell_type": "code",
   "execution_count": null,
   "metadata": {},
   "outputs": [],
   "source": [
    "def batch_iterate(\n",
    "    x: Tensor, \n",
    "    y: Tensor, \n",
    "    batch_size: int,\n",
    ") -> Generator[tuple[Tensor, Tensor], None, None]:\n",
    "    permutation = torch.tensor(np.random.permutation(y.shape[0]), dtype=torch.int64)\n",
    "    for s in range(0, y.shape[0], batch_size):\n",
    "        idxs = permutation[s:s + batch_size]\n",
    "        bx = x[idxs]\n",
    "        by = y[idxs]\n",
    "        yield bx, by"
   ]
  },
  {
   "cell_type": "markdown",
   "metadata": {},
   "source": [
    "# Model"
   ]
  },
  {
   "cell_type": "markdown",
   "metadata": {},
   "source": [
    "### Layer Normalization\n",
    "\n",
    "$y = \\frac{x - E[x]}{\\sqrt{E[(x - E[x])^2] + \\epsilon}} \\odot \\gamma + \\beta$"
   ]
  },
  {
   "cell_type": "code",
   "execution_count": null,
   "metadata": {},
   "outputs": [],
   "source": [
    "class LayerNorm(nn.Module):\n",
    "    def __init__(self, normalized_shape: Sequence[int], bias=True, eps=1e-5) -> None:\n",
    "        super().__init__()\n",
    "        self.weight = nn.Parameter(torch.ones(normalized_shape))\n",
    "        self.bias = nn.Parameter(torch.ones(normalized_shape)) if bias else None\n",
    "        self.eps = eps\n",
    "    \n",
    "\n",
    "    def forward(self, x: Tensor) -> Tensor: \n",
    "        return F.layer_norm(x, self.weight.shape, self.weight, self.bias, self.eps) "
   ]
  },
  {
   "cell_type": "markdown",
   "metadata": {},
   "source": [
    "### Self Attention\n",
    "\n",
    "$[q_{i, j}, k_{i, j}, v_{i, j}] = x_{i, j}[W_q, W_k, W_v] + [b_q, b_k, b_v]$ \n",
    "where all $q, k, v, x, b$ are row vectors\n",
    "\n",
    "$[q_{i, j}, k_{i, j}, v_{i, j}]$ are computed for $x_i$ in the 3D tensor \n",
    "$x = \\begin{bmatrix}\n",
    "x_{1, 1} & \\dots & x_{1, T} \\\\\n",
    "\\vdots & \\ddots & \\vdots \\\\\n",
    "x_{B, 1} & \\dots & x_{B, T}\n",
    "\\end{bmatrix}$ resulting in tensors $q, k, v$\n",
    "\n",
    "$x$ has shape $(B, T, C)$ where $B$ is the batch size, $T$ is the sequence length,\n",
    "and $C$ is the number of embedding dimensions\n",
    "\n",
    "$q, k, v$ have shape $(B, T, ND)$ where $B$ is the batch size, \n",
    "$T$ is the sequence length, $N$ is the number of attention heads, and $D$ is the\n",
    "number of query/key dimensions\n",
    "\n",
    "$q, k, v$ are reshaped to $(B, N, T, D)$\n",
    "\n",
    "$a_{i, j} = q_{i, j} k_{i, j}^T$\n",
    "\n",
    "$a_{i, j} = -\\infty$ for all $i < j$\n",
    "\n",
    "$a_{i, j} = \\text{softmax}(a_{i, j})$ where softmax is computed rowwise\n",
    "\n",
    "$y_{i, j} = a_{i, j} v_{i, j}$\n",
    "\n",
    "$y$ has shape $(B, N, T, D)$\n",
    "\n",
    "$y$ is reshaped to $(B, T, ND)$, so $y_{i, j}$ is a row vector\n",
    "\n",
    "$y_{i, j} = y_{i, j}W_p + b_p$ "
   ]
  },
  {
   "cell_type": "code",
   "execution_count": null,
   "metadata": {},
   "outputs": [],
   "source": [
    "class SelfAttention(nn.Module):\n",
    "    def __init__(self, n_embed: int, n_head: int, dropout: float, bias=True) -> None:\n",
    "        super().__init__()\n",
    "        self.n_embed = n_embed\n",
    "        self.n_head = n_head\n",
    "        assert n_embed % n_head == 0 \n",
    "        self.D = n_embed // n_head\n",
    "\n",
    "        self.c_attn = nn.Linear(n_embed, 3 * n_embed, bias=bias)\n",
    "        self.c_proj = nn.Linear(n_embed, n_embed, bias=bias)\n",
    "\n",
    "        self.dropout = dropout\n",
    "        self.attn_dropout = nn.Dropout(dropout)\n",
    "        self.res_dropout = nn.Dropout(dropout)\n",
    "\n",
    "        self.attn_scale = 1.0 / np.sqrt(self.D)\n",
    "    \n",
    "\n",
    "    def forward(self, x: Tensor) -> Tensor:\n",
    "        B, T, n_embed = x.shape\n",
    "        assert n_embed == self.n_embed\n",
    "\n",
    "        q, k, v = self.c_attn(x).split(self.n_embed, dim=2)\n",
    "\n",
    "        q = q.view(B, T, self.n_head, self.D).transpose(1, 2) # gives shape (B, N, T, D)\n",
    "        k = k.view(B, T, self.n_head, self.D).transpose(1, 2) # gives shape (B, N, T, D)\n",
    "        v = v.view(B, T, self.n_head, self.D).transpose(1, 2) # gives shape (B, N, T, D)\n",
    "\n",
    "        y = F.scaled_dot_product_attention(\n",
    "            q, k, v, \n",
    "            dropout_p=self.dropout, \n",
    "            is_causal=True,\n",
    "            scale=self.attn_scale,\n",
    "        )\n",
    "        \n",
    "        y = y.transpose(1, 2).contiguous().view(B, T, self.n_embed) # concat head outputs \n",
    "        y = self.c_proj(y)\n",
    "        y = self.res_dropout(y)\n",
    "        return y"
   ]
  },
  {
   "cell_type": "markdown",
   "metadata": {},
   "source": [
    "### MLP\n",
    "\n",
    "$x_{i, j} = x_{i, j} W_{c} + B_{c}$\n",
    "\n",
    "$y_{i, j} = x_{i, j} W_{p} + B_{p}$"
   ]
  },
  {
   "cell_type": "code",
   "execution_count": null,
   "metadata": {},
   "outputs": [],
   "source": [
    "class MLP(nn.Module):\n",
    "    def __init__(self, n_embed: int, dropout: float, bias=True):\n",
    "        super().__init__()\n",
    "        self.c_fc = nn.Linear(n_embed, 4 * n_embed, bias=bias)\n",
    "        self.c_proj = nn.Linear(4 * n_embed, n_embed, bias=bias)\n",
    "        self.dropout = nn.Dropout(dropout)\n",
    "\n",
    "\n",
    "    def forward(self, x: Tensor) -> Tensor:\n",
    "        x = F.gelu(self.c_fc(x))\n",
    "        x = self.c_proj(x)\n",
    "        x = self.dropout(x)\n",
    "        return x"
   ]
  },
  {
   "cell_type": "markdown",
   "metadata": {},
   "source": [
    "### Block\n",
    "\n",
    "Composition of layer normalization, self attention, and mlp"
   ]
  },
  {
   "cell_type": "code",
   "execution_count": null,
   "metadata": {},
   "outputs": [],
   "source": [
    "class Block(nn.Module):\n",
    "    def __init__(self, n_embed: int, n_head: int, dropout: float, bias=True) -> None:\n",
    "        super().__init__()\n",
    "        self.ln_1 = LayerNorm(n_embed, bias=bias)\n",
    "        self.attn = SelfAttention(n_embed, n_head, dropout, bias)\n",
    "        self.ln_2 = LayerNorm(n_embed, bias=bias)\n",
    "        self.mlp = MLP(n_embed, dropout, bias)\n",
    "\n",
    "\n",
    "    def forward(self, x: Tensor) -> Tensor:\n",
    "        x = x + self.attn(self.ln_1(x))\n",
    "        x = x + self.mlp(self.ln_2(x))\n",
    "        return x"
   ]
  },
  {
   "cell_type": "markdown",
   "metadata": {},
   "source": [
    "### Generative Transformer\n",
    "- Input is an array of token indexes\n",
    "- Computes token embeddings from the input\n",
    "- Computes position embeddings from the sequence $[0, 1, ..., T - 1]$\n",
    "- $x$ is the sum of the token and position embeddings\n",
    "- $x$ is forwarded through all the blocks\n",
    "- $x$ is layer normalized one more time\n",
    "- $x$ is forwarded through a linear layer to transform it from the embedding dimension \n",
    "    to the vocab size\n",
    "- If generating, $p = \\text{softmax}(x)$, and the next index is drawn from the \n",
    "    distribution $p$"
   ]
  },
  {
   "cell_type": "code",
   "execution_count": null,
   "metadata": {},
   "outputs": [],
   "source": [
    "class GenerativeTransformer(nn.Module):\n",
    "    def __init__(\n",
    "        self, n_embed: int, n_head: int, block_size: int, \n",
    "        vocab_size: int, n_layer: int, dropout: float, bias=True,\n",
    "    ) -> None:\n",
    "        super().__init__()\n",
    "        self.block_size = block_size\n",
    "\n",
    "        args = (n_embed, n_head, dropout, bias)\n",
    "\n",
    "        self.transformer = nn.ModuleDict(dict(\n",
    "            wte = nn.Embedding(vocab_size, n_embed),\n",
    "            wpe = nn.Embedding(block_size, n_embed),\n",
    "            drop = nn.Dropout(dropout),\n",
    "            h = nn.ModuleList([Block(*args) for _ in range(n_layer)]),\n",
    "            ln_f = LayerNorm(n_embed, bias=bias),\n",
    "        ))\n",
    "\n",
    "        self.lm_head = nn.Linear(n_embed, vocab_size, bias=False)\n",
    "        self.transformer.wte.weight = self.lm_head.weight\n",
    "\n",
    "\n",
    "        def init_weights(module: nn.Module) -> None:\n",
    "            if isinstance(module, nn.Linear):\n",
    "                torch.nn.init.normal_(module.weight, mean=0.0, std=0.02)\n",
    "                if module.bias is not None:\n",
    "                    torch.nn.init.zeros_(module.bias)\n",
    "            elif isinstance(module, nn.Embedding):\n",
    "                torch.nn.init.normal_(module.weight, mean=0.0, std=0.02)\n",
    "\n",
    "\n",
    "        self.apply(init_weights)\n",
    "    \n",
    "\n",
    "    def forward(self, x_idx: Tensor) -> Tensor:\n",
    "        device = x_idx.device\n",
    "        _, T = x_idx.shape\n",
    "\n",
    "        assert T <= self.block_size, \\\n",
    "            f\"cannot forward sequence of length {T}, block size is only {self.block_size}\"\n",
    "        \n",
    "        pos = torch.arange(0, T, dtype=torch.int64, device=device)\n",
    "\n",
    "        tok_emb = self.transformer.wte(x_idx) # shape (B, T, C)\n",
    "        pos_emb = self.transformer.wpe(pos) # shape (T, C)\n",
    "\n",
    "        # (B, T, C) + (T, C) = (B, T, C)\n",
    "        # elementwise addition for each batch\n",
    "        x = self.transformer.drop(tok_emb + pos_emb)\n",
    "        for blk in self.transformer.h:\n",
    "            x = blk(x)\n",
    "        x = self.transformer.ln_f(x)\n",
    "        x = self.lm_head(x)\n",
    "        return x\n",
    "    \n",
    "\n",
    "    @torch.no_grad()\n",
    "    def generate(self, x_idx: Tensor, max_new_tokens: int, temperature=1.0) -> Tensor:\n",
    "        # Take a conditioning sequence of indices x_idx (int64 tensor of shape (B, T)) and \n",
    "        # complete the sequence max_new_tokens times, feeding the predictions back into \n",
    "        # the model each time. Most likely you\"ll want to make sure to be in model.eval() \n",
    "        # mode of operation for this.\n",
    "        for _ in range(max_new_tokens):\n",
    "            if x_idx.shape[1] <= self.block_size:\n",
    "                x_idx_cropped = x_idx \n",
    "            else:\n",
    "                x_idx_cropped = x_idx[:, -self.block_size:]\n",
    "\n",
    "            logits = self(x_idx_cropped)\n",
    "            logits = logits[:, -1, :] / temperature\n",
    "\n",
    "            probs = F.softmax(logits, dim=-1)\n",
    "            idx_next = torch.multinomial(probs, num_samples=1)\n",
    "            x_idx = torch.cat((x_idx, idx_next), dim=1)\n",
    "\n",
    "        return x_idx  "
   ]
  },
  {
   "cell_type": "markdown",
   "metadata": {},
   "source": [
    "# Training"
   ]
  },
  {
   "cell_type": "code",
   "execution_count": null,
   "metadata": {},
   "outputs": [],
   "source": [
    "EVAL_INTERVAL = 2500\n",
    "LOG_INTERVAL = 500\n",
    "\n",
    "BLOCK_SIZE = 32\n",
    "BATCH_SIZE = 16\n",
    "\n",
    "DEVICE = \"mps\"\n",
    "DTYPE = torch.float32\n",
    "\n",
    "MAX_ITERS = 10000\n",
    "\n",
    "MAX_LR = 1e-4\n",
    "WARMUP_ITERS = 100\n",
    "LR_DECAY_ITERS = 2500\n",
    "MIN_LR = 1e-5"
   ]
  },
  {
   "cell_type": "markdown",
   "metadata": {},
   "source": [
    "### Convert data to blocks\n",
    "\n",
    "$x_i = [d_i, d_{i + 1}, ..., d_{i + b}]$\n",
    "\n",
    "$y_i = [d_{i + 1}, d_{i + 2}, ..., d_{i + b + 1}]$"
   ]
  },
  {
   "cell_type": "code",
   "execution_count": null,
   "metadata": {},
   "outputs": [],
   "source": [
    "x_train, y_train = block_data(train_data, BLOCK_SIZE)\n",
    "x_val, y_val = block_data(val_data, BLOCK_SIZE)"
   ]
  },
  {
   "cell_type": "markdown",
   "metadata": {},
   "source": [
    "### Initialize model and optimizer"
   ]
  },
  {
   "cell_type": "code",
   "execution_count": null,
   "metadata": {},
   "outputs": [],
   "source": [
    "model = GenerativeTransformer(\n",
    "    n_embed=640, # changed so n_embed % n_head == 0\n",
    "    n_head=4, \n",
    "    block_size=BLOCK_SIZE, \n",
    "    vocab_size=vocab_size,\n",
    "    n_layer=4, \n",
    "    dropout=0.0, \n",
    "    bias=True,\n",
    ").to(device=DEVICE, dtype=DTYPE)\n",
    "\n",
    "optimizer = optim.AdamW(model.parameters(), lr=1e-4)"
   ]
  },
  {
   "cell_type": "code",
   "execution_count": null,
   "metadata": {},
   "outputs": [],
   "source": [
    "# checkpoint = torch.load(\"checkpoints/checkpoint.pt\")\n",
    "# model.load_state_dict(checkpoint[\"model\"])\n",
    "# optimizer.load_state_dict(checkpoint[\"optimizer\"])"
   ]
  },
  {
   "cell_type": "markdown",
   "metadata": {},
   "source": [
    "Estimate loss from tensors $x, y$"
   ]
  },
  {
   "cell_type": "code",
   "execution_count": null,
   "metadata": {},
   "outputs": [],
   "source": [
    "@torch.no_grad()\n",
    "def evaluate_loss(x, y, max_iters=100):\n",
    "    loss_sum = 0\n",
    "    cnt = 0\n",
    "    for i, (bx, by) in enumerate(batch_iterate(x, y, BATCH_SIZE)):\n",
    "        if i >= max_iters:\n",
    "            break\n",
    "\n",
    "        bx = bx.to(DEVICE)\n",
    "        by = by.to(DEVICE)\n",
    "    \n",
    "        logits = model(bx)\n",
    "        loss = F.cross_entropy(logits.view(-1, logits.shape[-1]), by.view(-1)).cpu()\n",
    "        loss_sum += loss.cpu() * len(x)\n",
    "        cnt += len(x)\n",
    "    return loss_sum / cnt"
   ]
  },
  {
   "cell_type": "markdown",
   "metadata": {},
   "source": [
    "### Change learning rate over time\n",
    "\n",
    "$\\eta_i = \\begin{cases}\n",
    "    \\frac{\\eta \\cdot i}{N_{\\text{warmup}}} & i < N_{\\text{warmup}} \\\\\n",
    "    \\eta_{\\text{min}} + \\left(\n",
    "        \\frac{1}{2} + \\frac{1}{2}\\cos\\left(\n",
    "            \\pi \\frac{N_{\\text{warmup}} \\cdot i}{N_{\\text{decay}} - N_{\\text{warmup}}}\n",
    "        \\right)\n",
    "    \\right)(\\eta_0 - \\eta_{\\text{min}}) & N_{\\text{warmup}} \\leq i < N_{\\text{decay}} \\\\\n",
    "    \\eta_{\\text{min}} & N_{\\text{decay}} \\leq i\n",
    "\\end{cases}$"
   ]
  },
  {
   "cell_type": "code",
   "execution_count": null,
   "metadata": {},
   "outputs": [],
   "source": [
    "def get_lr(iter_num: int) -> float:\n",
    "    if iter_num < WARMUP_ITERS: \n",
    "        return MAX_LR * iter_num / WARMUP_ITERS \n",
    "    \n",
    "    if iter_num > LR_DECAY_ITERS:\n",
    "        return MIN_LR\n",
    "    \n",
    "    decay_ratio = (iter_num - WARMUP_ITERS) / (LR_DECAY_ITERS - WARMUP_ITERS)\n",
    "    assert 0 <= decay_ratio and decay_ratio <= 1\n",
    "    coeff = 0.5 * (1.0 + np.cos(np.pi * decay_ratio))\n",
    "    return MIN_LR + coeff * (MAX_LR - MIN_LR)"
   ]
  },
  {
   "cell_type": "code",
   "execution_count": null,
   "metadata": {},
   "outputs": [],
   "source": [
    "plt.plot([get_lr(i) for i in range(1, MAX_ITERS + 1)])\n",
    "plt.xlabel(\"Iteration\")\n",
    "plt.ylabel(\"Learning Rate\")\n",
    "plt.show()"
   ]
  },
  {
   "cell_type": "markdown",
   "metadata": {},
   "source": [
    "### Crossentropy loss:\n",
    "\n",
    "$l(x, y, \\theta) = -\\sum_i y_i \\log(f(x_i, \\theta))$\n",
    "\n",
    "<br>\n",
    "\n",
    "### Train Step with Adam Optimizer\n",
    "\n",
    "$g_t = \\nabla_{\\theta_{t - 1}} l(x, y, )$\n",
    "\n",
    "$\\alpha = \\eta \\frac{\\sqrt{1 - \\beta_2^t}}{1 - \\beta_1^t}$\n",
    "\n",
    "$m_t = \\beta_1 m_{t - 1} + (1 - \\beta_1)g_t$\n",
    "\n",
    "$m_t = \\beta_2 v_{t - 1} + (1 - \\beta_2)g_t^2$\n",
    "\n",
    "$\\theta_t = \\theta_{t - 1} - \\alpha \\frac{m_t}{\\sqrt{v_t} + \\epsilon}$"
   ]
  },
  {
   "cell_type": "code",
   "execution_count": null,
   "metadata": {},
   "outputs": [],
   "source": [
    "i = 1\n",
    "t0 = time.time()\n",
    "best_val_loss = float('inf')\n",
    "\n",
    "while True:\n",
    "    if i > MAX_ITERS:\n",
    "        break\n",
    "    \n",
    "    for x, y in batch_iterate(x_train, y_train, batch_size=BATCH_SIZE):\n",
    "        if i > MAX_ITERS:\n",
    "            break\n",
    "\n",
    "        lr = get_lr(i)\n",
    "        for param_group in optimizer.param_groups:\n",
    "            param_group[\"lr\"] = lr\n",
    "\n",
    "        x = x.to(DEVICE)\n",
    "        y = y.to(DEVICE)\n",
    "        \n",
    "        logits = model(x)\n",
    "        loss = F.cross_entropy(logits.view(-1, logits.shape[-1]), y.view(-1))\n",
    "        \n",
    "        loss.backward()\n",
    "        optimizer.step()\n",
    "        optimizer.zero_grad(set_to_none=True)\n",
    "\n",
    "        if i % LOG_INTERVAL == 0:\n",
    "            t1 = time.time()\n",
    "            dt = t1 - t0\n",
    "            t0 = t1\n",
    "            print(f\"[{i:4}] loss: {loss.item():.3f}, time: {dt:.3f}s\")\n",
    "        \n",
    "        if i % EVAL_INTERVAL == 0:\n",
    "            train_loss = evaluate_loss(x_train, y_train)\n",
    "            val_loss = evaluate_loss(x_val, y_val)\n",
    "            print(f\"    train loss: {train_loss:.4f}, val loss: {val_loss:.4f}\")\n",
    "            if val_loss < best_val_loss:\n",
    "                best_val_loss = val_loss\n",
    "                checkpoint = {\n",
    "                    \"model\": model.state_dict(),\n",
    "                    \"optimizer\": optimizer.state_dict(),\n",
    "                    \"iter_num\": i,\n",
    "                    \"best_val_loss\": best_val_loss,\n",
    "                }\n",
    "                torch.save(checkpoint, \"checkpoints/checkpoint1.pt\")\n",
    "                print(f\"    saved checkpoint to checkpoints\")\n",
    "\n",
    "        i += 1   \n",
    "\n",
    "# float32:\n",
    "# 5m 47.4s\n",
    "# train loss: 1.5059, val loss: 1.6205\n",
    "\n",
    "# bfloat16:\n",
    "# 4m 28.9s\n",
    "# train loss: 2.0559, val loss: 2.1174"
   ]
  },
  {
   "cell_type": "markdown",
   "metadata": {},
   "source": [
    "# "
   ]
  },
  {
   "cell_type": "markdown",
   "metadata": {},
   "source": [
    "# Testing"
   ]
  },
  {
   "cell_type": "code",
   "execution_count": null,
   "metadata": {},
   "outputs": [],
   "source": [
    "model = GenerativeTransformer(\n",
    "    n_embed=640, # changed so n_embed % n_head == 0\n",
    "    n_head=4, \n",
    "    block_size=BLOCK_SIZE, \n",
    "    vocab_size=vocab_size,\n",
    "    n_layer=4, \n",
    "    dropout=0.0, \n",
    "    bias=True,\n",
    ").to(device=DEVICE, dtype=DTYPE)"
   ]
  },
  {
   "cell_type": "code",
   "execution_count": null,
   "metadata": {},
   "outputs": [],
   "source": [
    "checkpoint = torch.load(\"checkpoints/checkpoint1.pt\")\n",
    "model.load_state_dict(checkpoint[\"model\"])\n",
    "optimizer.load_state_dict(checkpoint[\"optimizer\"])"
   ]
  },
  {
   "cell_type": "code",
   "execution_count": null,
   "metadata": {},
   "outputs": [],
   "source": [
    "train_loss = evaluate_loss(x_train, y_train, max_iters=500)\n",
    "val_loss = evaluate_loss(x_val, y_val)\n",
    "print(f\"train loss: {train_loss:.4f}, val loss: {val_loss:.4f}\")"
   ]
  },
  {
   "cell_type": "code",
   "execution_count": null,
   "metadata": {},
   "outputs": [],
   "source": [
    "context = torch.tensor(encode(\"Hello, my name is \"), dtype=torch.int64).to(DEVICE)\n",
    "output = model.generate(context[None], max_new_tokens=100, temperature=1)\n",
    "print(decode(output[0]))"
   ]
  },
  {
   "cell_type": "code",
   "execution_count": null,
   "metadata": {},
   "outputs": [],
   "source": []
  }
 ],
 "metadata": {
  "kernelspec": {
   "display_name": "Python 3",
   "language": "python",
   "name": "python3"
  },
  "language_info": {
   "codemirror_mode": {
    "name": "ipython",
    "version": 3
   },
   "file_extension": ".py",
   "mimetype": "text/x-python",
   "name": "python",
   "nbconvert_exporter": "python",
   "pygments_lexer": "ipython3",
   "version": "3.12.2"
  }
 },
 "nbformat": 4,
 "nbformat_minor": 2
}
